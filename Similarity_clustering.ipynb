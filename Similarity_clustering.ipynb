{
 "cells": [
  {
   "cell_type": "markdown",
   "metadata": {},
   "source": [
    "### Load Dataset"
   ]
  },
  {
   "cell_type": "code",
   "execution_count": 1,
   "metadata": {},
   "outputs": [
    {
     "name": "stdout",
     "output_type": "stream",
     "text": [
      "<class 'pandas.core.frame.DataFrame'>\n",
      "RangeIndex: 2781 entries, 0 to 2780\n",
      "Data columns (total 9 columns):\n",
      " #   Column             Non-Null Count  Dtype \n",
      "---  ------             --------------  ----- \n",
      " 0   Product_Name       2781 non-null   object\n",
      " 1   length             2781 non-null   int64 \n",
      " 2   width              2781 non-null   int64 \n",
      " 3   Product_Type_Name  2781 non-null   object\n",
      " 4   material           2781 non-null   object\n",
      " 5   PA_Name            2781 non-null   object\n",
      " 6   VALDES_TEXT_EN     2781 non-null   object\n",
      " 7   country_code       2781 non-null   object\n",
      " 8   language_code      2781 non-null   object\n",
      "dtypes: int64(2), object(7)\n",
      "memory usage: 195.7+ KB\n"
     ]
    }
   ],
   "source": [
    "# LOAD CSV dataset\n",
    "import pandas as pd\n",
    "import numpy as np\n",
    "\n",
    "# Load the dataset\n",
    "df_filled_ml_copy = pd.read_csv('bed_cleaned_data_2025.csv') #'bed_cleaned_data.csv', isthe old 2024 data\n",
    "df_filled_ml_copy.drop(columns=['Unnamed: 0'], inplace=True)\n",
    "#set Item_NO to 8 digits with zfill\n",
    "df_filled_ml_copy['Item_NO'] = df_filled_ml_copy['Item_NO'].apply(lambda x: str(x).zfill(8))\n",
    "\n",
    "df_original = df_filled_ml_copy.copy()\n",
    "\n",
    "df_filled_ml_copy.drop(columns=['Item_NO'], inplace=True)\n",
    "\n",
    "df_filled_ml_copy.info()"
   ]
  },
  {
   "cell_type": "markdown",
   "metadata": {},
   "source": [
    "### Preprocess text data"
   ]
  },
  {
   "cell_type": "code",
   "execution_count": 2,
   "metadata": {},
   "outputs": [
    {
     "name": "stdout",
     "output_type": "stream",
     "text": [
      "  product_name  product_type_name              material  \\\n",
      "0       nordli  bed frame storage  wood including board   \n",
      "1       utåker      stackable bed            solid wood   \n",
      "2       idanäs  bed frame storage  wood including board   \n",
      "3    kleppstad          bed frame                 metal   \n",
      "4    vevelstad          bed frame                 metal   \n",
      "\n",
      "                                      pa_name     valdes_text_en country_code  \\\n",
      "0  bed frames beds non upholstered headboards              white           se   \n",
      "1                    flexible sleep solutions               pine           se   \n",
      "2  bed frames beds non upholstered headboards              white           se   \n",
      "3                   bed upholstered headboard  whitevissle beige           se   \n",
      "4  bed frames beds non upholstered headboards              white           se   \n",
      "\n",
      "  language_code  \n",
      "0            en  \n",
      "1            en  \n",
      "2            en  \n",
      "3            en  \n",
      "4            en  \n"
     ]
    },
    {
     "name": "stderr",
     "output_type": "stream",
     "text": [
      "[nltk_data] Downloading package stopwords to\n",
      "[nltk_data]     C:\\Users\\QUTRA9\\AppData\\Roaming\\nltk_data...\n",
      "[nltk_data]   Package stopwords is already up-to-date!\n"
     ]
    }
   ],
   "source": [
    "import re\n",
    "import string\n",
    "import pandas as pd\n",
    "import nltk\n",
    "from nltk.corpus import stopwords\n",
    "\n",
    "# Install NLTK stopwords\n",
    "nltk.download('stopwords')\n",
    "stop_words = set(stopwords.words('english'))\n",
    "\n",
    "def preprocess_text(text):\n",
    "    # Convert to lowercase\n",
    "    text = text.lower()\n",
    "    # Remove punctuation\n",
    "    text = text.translate(str.maketrans('', '', string.punctuation))\n",
    "    # Remove numbers\n",
    "    text = re.sub(r'\\d+', '', text)\n",
    "    # Remove stop words\n",
    "    text = ' '.join([word for word in text.split() if word not in stop_words])\n",
    "    # Remove extra whitespace\n",
    "    text = text.strip()\n",
    "    return text\n",
    "\n",
    "# Assuming df_filled_ml_copy is already defined\n",
    "df_no_dimensions = df_filled_ml_copy.drop(columns=['length', 'width'])\n",
    "df_no_dimensions.columns = [col.lower() for col in df_no_dimensions.columns]\n",
    "\n",
    "df_prepocess = pd.DataFrame()\n",
    "for column in df_no_dimensions.columns:\n",
    "    df_prepocess[column] = df_no_dimensions[column].apply(preprocess_text)\n",
    "\n",
    "print(df_prepocess.head())"
   ]
  },
  {
   "cell_type": "markdown",
   "metadata": {},
   "source": [
    "### Similarity Clustering using Cosine similarity"
   ]
  },
  {
   "cell_type": "code",
   "execution_count": 6,
   "metadata": {},
   "outputs": [],
   "source": [
    "import pandas as pd\n",
    "from sentence_transformers import SentenceTransformer\n",
    "from sklearn.preprocessing import StandardScaler, OneHotEncoder\n",
    "from sklearn.metrics.pairwise import cosine_similarity\n",
    "import numpy as np\n",
    "\n",
    "# Load your DataFrame\n",
    "df = df_prepocess.copy()\n",
    "df.drop(columns=['language_code', 'country_code'], inplace=True)\n",
    "df['length'] = df_filled_ml_copy['length']\n",
    "df['width'] = df_filled_ml_copy['width']\n",
    "\n",
    "# Convert the DataFrame to a list of strings\n",
    "text_list = df_prepocess.apply(lambda row: ' '.join(row.values.astype(str)), axis=1).tolist()\n",
    "\n",
    "# Step 1: Use SentenceTransformer for text data\n",
    "model = SentenceTransformer('sentence-transformers/all-MiniLM-L12-v2')\n",
    "text_embeddings = model.encode(text_list)\n",
    "\n",
    "# Step 2: Use StandardScaler for length and width\n",
    "scaler = StandardScaler()\n",
    "length_width_scaled = scaler.fit_transform(df[['length', 'width']])\n",
    "\n",
    "# Step 3: One-hot encode the product type\n",
    "encoder = OneHotEncoder()\n",
    "product_type_encoded = encoder.fit_transform(df[['product_type_name']]).toarray()\n",
    "\n",
    "# Step 4: Combine all features\n",
    "combined_features = np.hstack((text_embeddings, length_width_scaled, product_type_encoded))\n",
    "\n",
    "# Step 5: Compute similarity scores\n",
    "similarity_matrix = cosine_similarity(combined_features)\n",
    "\n",
    "# Use absolute values of the similarity scores\n",
    "similarity_matrix = np.abs(similarity_matrix)\n",
    "\n",
    "# Step 6: Group data points based on similarity scores\n",
    "threshold = 0.8  # Adjust the threshold parameter as needed\n",
    "cluster_ids = [-1] * len(similarity_matrix)\n",
    "current_cluster_id = 0\n",
    "\n",
    "for i in range(len(similarity_matrix)):\n",
    "    if cluster_ids[i] == -1:  # If not yet assigned to a cluster, then this will assign a new cluster\n",
    "        cluster_ids[i] = current_cluster_id\n",
    "        for j in range(i + 1, len(similarity_matrix)):\n",
    "            if similarity_matrix[i][j] > threshold:\n",
    "                cluster_ids[j] = current_cluster_id\n",
    "        current_cluster_id += 1\n",
    "\n",
    "# Add cluster_id column to the DataFrame\n",
    "df['cluster_id'] = cluster_ids\n"
   ]
  },
  {
   "cell_type": "code",
   "execution_count": 8,
   "metadata": {},
   "outputs": [
    {
     "name": "stdout",
     "output_type": "stream",
     "text": [
      "cluster_id\n",
      "29     460\n",
      "11     320\n",
      "105    240\n",
      "107    207\n",
      "35     160\n",
      "      ... \n",
      "85       1\n",
      "62       1\n",
      "83       1\n",
      "76       1\n",
      "84       1\n",
      "Name: count, Length: 108, dtype: int64\n",
      "count    108.000000\n",
      "mean      25.750000\n",
      "std       63.935587\n",
      "min        1.000000\n",
      "25%        1.750000\n",
      "50%        4.500000\n",
      "75%       19.250000\n",
      "max      460.000000\n",
      "Name: count, dtype: float64\n"
     ]
    }
   ],
   "source": [
    "# Describe the original clusters\n",
    "print(df['cluster_id'].value_counts())\n",
    "\n",
    "print(df['cluster_id'].value_counts().describe())"
   ]
  },
  {
   "cell_type": "markdown",
   "metadata": {},
   "source": [
    "Refine clusters by product_type_name"
   ]
  },
  {
   "cell_type": "code",
   "execution_count": 5,
   "metadata": {},
   "outputs": [
    {
     "name": "stdout",
     "output_type": "stream",
     "text": [
      "      cluster_id  refined_cluster_id\n",
      "0              0                   0\n",
      "1              1                   1\n",
      "2              0                   0\n",
      "3              2                   2\n",
      "4              2                   2\n",
      "...          ...                 ...\n",
      "2776         105                 142\n",
      "2777         107                 144\n",
      "2778         107                 144\n",
      "2779         105                 142\n",
      "2780         105                 142\n",
      "\n",
      "[2781 rows x 2 columns]\n"
     ]
    }
   ],
   "source": [
    "# Step 7: Refine clusters by grouping them according to their product_type_name\n",
    "refined_cluster_ids = [-1] * len(df)\n",
    "current_refined_cluster_id = 0\n",
    "\n",
    "for cluster_id in set(cluster_ids):\n",
    "    cluster_indices = [i for i, x in enumerate(cluster_ids) if x == cluster_id]\n",
    "    product_type_names = df.iloc[cluster_indices]['product_type_name'].unique()\n",
    "    \n",
    "    for product_type_name in product_type_names:\n",
    "        product_indices = df[(df['cluster_id'] == cluster_id) & (df['product_type_name'] == product_type_name)].index\n",
    "        for idx in product_indices:\n",
    "            refined_cluster_ids[idx] = current_refined_cluster_id\n",
    "        current_refined_cluster_id += 1\n",
    "\n",
    "# Add refined cluster_id column to the DataFrame\n",
    "df['refined_cluster_id'] = refined_cluster_ids\n",
    "\n",
    "# Print DataFrame with refined_cluster_id\n",
    "print(df[['cluster_id', 'refined_cluster_id']])"
   ]
  },
  {
   "cell_type": "markdown",
   "metadata": {},
   "source": [
    "Refine step 7 further by product_name (the old step here was for valid design but now changed to product_name)"
   ]
  },
  {
   "cell_type": "code",
   "execution_count": 26,
   "metadata": {},
   "outputs": [],
   "source": [
    "# Step 8: Further refine clusters by grouping them according to their product_name\n",
    "final_cluster_ids = [-1] * len(df)\n",
    "current_final_cluster_id = 0\n",
    "\n",
    "for refined_cluster_id in set(refined_cluster_ids):\n",
    "    refined_cluster_indices = [i for i, x in enumerate(refined_cluster_ids) if x == refined_cluster_id]\n",
    "    product_names = df.iloc[refined_cluster_indices]['product_name'].unique()\n",
    "    \n",
    "    for product_name in product_names:\n",
    "        valdes_indices = df[(df['refined_cluster_id'] == refined_cluster_id) & (df['product_name'] == product_name)].index\n",
    "        for idx in valdes_indices:\n",
    "            final_cluster_ids[idx] = current_final_cluster_id\n",
    "        current_final_cluster_id += 1\n",
    "\n",
    "# Add final cluster_id column to the DataFrame\n",
    "df['final_cluster_id'] = final_cluster_ids"
   ]
  },
  {
   "cell_type": "markdown",
   "metadata": {},
   "source": [
    "insert item_no back to dataframe"
   ]
  },
  {
   "cell_type": "code",
   "execution_count": 11,
   "metadata": {},
   "outputs": [],
   "source": [
    "# add Item_NO back to the dataframe\n",
    "df['item_no'] = df_original['Item_NO']"
   ]
  },
  {
   "cell_type": "markdown",
   "metadata": {},
   "source": [
    "Statistics description"
   ]
  },
  {
   "cell_type": "code",
   "execution_count": 28,
   "metadata": {},
   "outputs": [
    {
     "name": "stdout",
     "output_type": "stream",
     "text": [
      "refined_cluster_id\n",
      "11     320\n",
      "142    240\n",
      "144    207\n",
      "72     160\n",
      "23     119\n",
      "      ... \n",
      "49       1\n",
      "54       1\n",
      "66       1\n",
      "125      1\n",
      "99       1\n",
      "Name: count, Length: 145, dtype: int64\n",
      "count    145.000000\n",
      "mean      19.179310\n",
      "std       42.542735\n",
      "min        1.000000\n",
      "25%        2.000000\n",
      "50%        4.000000\n",
      "75%       19.000000\n",
      "max      320.000000\n",
      "Name: count, dtype: float64\n"
     ]
    }
   ],
   "source": [
    "# Describe the refined clusters\n",
    "print(df['refined_cluster_id'].value_counts())\n",
    "print(df['refined_cluster_id'].value_counts().describe())"
   ]
  },
  {
   "cell_type": "code",
   "execution_count": 27,
   "metadata": {},
   "outputs": [
    {
     "name": "stdout",
     "output_type": "stream",
     "text": [
      "final_cluster_id\n",
      "28     288\n",
      "223     90\n",
      "160     88\n",
      "187     80\n",
      "279     66\n",
      "      ... \n",
      "106      1\n",
      "234      1\n",
      "231      1\n",
      "218      1\n",
      "246      1\n",
      "Name: count, Length: 292, dtype: int64\n",
      "count    292.000000\n",
      "mean       9.523973\n",
      "std       21.311052\n",
      "min        1.000000\n",
      "25%        2.000000\n",
      "50%        4.000000\n",
      "75%        9.000000\n",
      "max      288.000000\n",
      "Name: count, dtype: float64\n"
     ]
    }
   ],
   "source": [
    "# Describe the final clusters\n",
    "print(df['final_cluster_id'].value_counts())\n",
    "print(df['final_cluster_id'].value_counts().describe())"
   ]
  },
  {
   "cell_type": "markdown",
   "metadata": {},
   "source": [
    "### Forcefully Rearrange grouping to 6 members in a group\n",
    "-----------------------------------"
   ]
  },
  {
   "cell_type": "code",
   "execution_count": 35,
   "metadata": {},
   "outputs": [],
   "source": [
    "# Step 9: keep number of members in each refined cluster to 6\n",
    "df_final_refined = pd.DataFrame()\n",
    "for cluster_id in df['refined_cluster_id'].unique():\n",
    "    cluster_data = df[df['refined_cluster_id'] == cluster_id]\n",
    "    if len(cluster_data) > 6:\n",
    "        cluster_data = cluster_data.sample(n=6)\n",
    "    df_final_refined = pd.concat([df_final_refined, cluster_data])"
   ]
  },
  {
   "cell_type": "code",
   "execution_count": 13,
   "metadata": {},
   "outputs": [
    {
     "name": "stdout",
     "output_type": "stream",
     "text": [
      "     product_name         product_type_name              material  \\\n",
      "2          idanäs         bed frame storage  wood including board   \n",
      "2052       platsa         bed frame storage  wood including board   \n",
      "664       brimnes         bed frame storage  wood including board   \n",
      "542       brimnes         bed frame storage  wood including board   \n",
      "66         platsa         bed frame storage  wood including board   \n",
      "...           ...                       ...                   ...   \n",
      "2741    stavanger  wooden base spr mattress  wood including board   \n",
      "2587    stavanger  wooden base spr mattress  wood including board   \n",
      "2688    stavanger  wooden base spr mattress  wood including board   \n",
      "2635       skårer  wooden base spr mattress  wood including board   \n",
      "2740       skårer  wooden base spr mattress  wood including board   \n",
      "\n",
      "                                         pa_name             valdes_text_en  \\\n",
      "2     bed frames beds non upholstered headboards                      white   \n",
      "2052  bed frames beds non upholstered headboards                      white   \n",
      "664   bed frames beds non upholstered headboards                      white   \n",
      "542   bed frames beds non upholstered headboards                      white   \n",
      "66    bed frames beds non upholstered headboards                      white   \n",
      "...                                          ...                        ...   \n",
      "2741                      wooden base mattresses      medium firmanthracite   \n",
      "2587                      wooden base mattresses  firmmedium firmanthracite   \n",
      "2688                      wooden base mattresses  firmmedium firmanthracite   \n",
      "2635                      wooden base mattresses      medium firmdark beige   \n",
      "2740                      wooden base mattresses      medium firmdark beige   \n",
      "\n",
      "      length  width  cluster_id  refined_cluster_id   item_no  \\\n",
      "2        180    200           0                   0  00458876   \n",
      "2052     140    244           0                   0  39336539   \n",
      "664      180    200           0                   0  99902939   \n",
      "542      140    200           0                   0  79902935   \n",
      "66       140    200           0                   0  10453086   \n",
      "...      ...    ...         ...                 ...       ...   \n",
      "2741     180    200         106                 143  99414690   \n",
      "2587     180    200         106                 143  69414696   \n",
      "2688     160    200         106                 143  89414695   \n",
      "2635     180    200         106                 143  79414672   \n",
      "2740     160    200         106                 143  99414671   \n",
      "\n",
      "      final_cluster_id  \n",
      "2                    0  \n",
      "2052                 0  \n",
      "664                  0  \n",
      "542                  0  \n",
      "66                   0  \n",
      "...                ...  \n",
      "2741              1429  \n",
      "2587              1430  \n",
      "2688              1430  \n",
      "2635              1431  \n",
      "2740              1431  \n",
      "\n",
      "[2609 rows x 11 columns]\n"
     ]
    }
   ],
   "source": [
    "# Step 10: do step 9 for each final_cluster to 6\n",
    "df_final = pd.DataFrame()\n",
    "for cluster_id in df['final_cluster_id'].unique():\n",
    "    cluster_data = df[df['final_cluster_id'] == cluster_id]\n",
    "    if len(cluster_data) > 6:\n",
    "        cluster_data = cluster_data.sample(n=6)\n",
    "    df_final = pd.concat([df_final, cluster_data])\n",
    "    \n",
    "# Print the final DataFrame\n",
    "print(df_final)"
   ]
  },
  {
   "cell_type": "markdown",
   "metadata": {},
   "source": [
    "------------------"
   ]
  },
  {
   "cell_type": "code",
   "execution_count": null,
   "metadata": {},
   "outputs": [],
   "source": [
    "# value counts for refined clusters\n",
    "print(df_final_refined['refined_cluster_id'].value_counts())\n",
    "\n",
    "# describe the refined clusters\n",
    "print(df_final_refined['refined_cluster_id'].value_counts().describe())\n",
    "\n",
    "# plot histogram of number of products in each cluster\n",
    "import seaborn as sns\n",
    "import matplotlib.pyplot as plt\n",
    "\n",
    "sns.histplot(df_final_refined['refined_cluster_id'].value_counts(), kde=True)\n",
    "# title and labels\n",
    "plt.title('Number of Products in Groups')\n",
    "plt.xlabel('Number of Products')\n",
    "plt.ylabel('Number of Groups')\n",
    "\n",
    "plt.grid(True)\n",
    "plt.show()\n",
    "\n",
    "# print count of groups that have corresponding number of products\n",
    "df_final_refined['refined_cluster_id'].value_counts().value_counts()"
   ]
  },
  {
   "cell_type": "code",
   "execution_count": null,
   "metadata": {},
   "outputs": [],
   "source": [
    "# Value counts of final clusters\n",
    "print(df_final['final_cluster_id'].value_counts())\n",
    "\n",
    "# Describe the final clusters\n",
    "print(df_final['final_cluster_id'].value_counts().describe())"
   ]
  },
  {
   "cell_type": "code",
   "execution_count": null,
   "metadata": {},
   "outputs": [],
   "source": [
    "# plot histogram of number of products in each final_cluster\n",
    "import seaborn as sns\n",
    "import matplotlib.pyplot as plt\n",
    "\n",
    "sns.histplot(df_final['final_cluster_id'].value_counts(), kde=True)\n",
    "# title and labels\n",
    "plt.title('Number of Products in Groups')\n",
    "plt.xlabel('Number of Products')\n",
    "plt.ylabel('Number of Groups')\n",
    "\n",
    "plt.grid(True)\n",
    "plt.show()\n",
    "\n",
    "# print count of groups that have corresponding number of products\n",
    "df_final['final_cluster_id'].value_counts().value_counts()\n",
    "\n"
   ]
  },
  {
   "cell_type": "markdown",
   "metadata": {},
   "source": [
    "inspecting group with 1 product"
   ]
  },
  {
   "cell_type": "code",
   "execution_count": 24,
   "metadata": {},
   "outputs": [],
   "source": [
    "# Create a boolean Series where the count of each final_cluster_id is 1\n",
    "single_member_clusters = df_final['final_cluster_id'].value_counts() == 1\n",
    "\n",
    "# Filter df_final to get rows where final_cluster_id has only one member\n",
    "single_df = df_final[df_final['final_cluster_id'].isin(single_member_clusters[single_member_clusters].index)]\n"
   ]
  }
 ],
 "metadata": {
  "kernelspec": {
   "display_name": ".venv",
   "language": "python",
   "name": "python3"
  },
  "language_info": {
   "codemirror_mode": {
    "name": "ipython",
    "version": 3
   },
   "file_extension": ".py",
   "mimetype": "text/x-python",
   "name": "python",
   "nbconvert_exporter": "python",
   "pygments_lexer": "ipython3",
   "version": "3.12.6"
  }
 },
 "nbformat": 4,
 "nbformat_minor": 2
}
